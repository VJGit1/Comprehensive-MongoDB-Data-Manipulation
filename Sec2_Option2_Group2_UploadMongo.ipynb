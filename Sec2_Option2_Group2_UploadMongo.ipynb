{
 "cells": [
  {
   "cell_type": "markdown",
   "id": "907dd184-1f62-4096-af8b-ea4de9044bef",
   "metadata": {},
   "source": [
    "### DATA IMPORT AND ESTABLISHING MONGODB CONNECTION"
   ]
  },
  {
   "cell_type": "code",
   "execution_count": 22,
   "id": "4647f551-d645-4065-968e-9e47137e48c8",
   "metadata": {},
   "outputs": [
    {
     "name": "stdout",
     "output_type": "stream",
     "text": [
      "Imported 100000 records into 'Movies' collection.\n",
      "Imported 100000 records into 'Users' collection.\n",
      "Imported 100000 records into 'Reviews' collection.\n",
      "Imported 100000 records into 'WatchHistory' collection.\n",
      "All collections created and populated!\n"
     ]
    }
   ],
   "source": [
    "import json\n",
    "from pymongo import MongoClient\n",
    "\n",
    "client = MongoClient(\"mongodb://localhost:27017\")                                          # Connecting to MongoDB\n",
    "db = client[\"moviesdata\"]\n",
    "\n",
    "def import_json_to_mongodb(file_path, collection_name):                                    # Function to import JSON into MongoDB\n",
    "    with open(file_path, \"r\") as json_file:                                                # Opening the JSON file\n",
    "        json_data = json.load(json_file)                                                   # Loading the data from the file\n",
    "\n",
    "    collection = db[collection_name]                                                       # Specifying the collection in MongoDB\n",
    "    collection.insert_many(json_data)                                                      # Inserting the data into MongoDB\n",
    "    print(f\"Imported {len(json_data)} records into '{collection_name}' collection.\")\n",
    "\n",
    "import_json_to_mongodb(\"movies.json\", \"Movies\")                                            # Importing each JSON file into its respective collection\n",
    "import_json_to_mongodb(\"users.json\", \"Users\")\n",
    "import_json_to_mongodb(\"reviews.json\", \"Reviews\")\n",
    "import_json_to_mongodb(\"watch_history.json\", \"WatchHistory\")\n",
    "\n",
    "print(\"All collections created and populated!\")"
   ]
  },
  {
   "cell_type": "markdown",
   "id": "98addb21-b809-4947-be4b-e3ef541da9ff",
   "metadata": {},
   "source": [
    "**TASK:**\n",
    "\n",
    "In this task, the goal was to import JSON data into a MongoDB database. We used Python and the pymongo library to achieve this. First, we connected to the MongoDB server running on localhost and specified the database moviesdata. We created a function import_json_to_mongodb to handle the task of reading data from JSON files and inserting it into MongoDB collections. The function accepts the file path and collection name as parameters, opens the file, loads the JSON data, and inserts the records into the corresponding collection using the insert_many() method. We repeated this process for four different JSON files representing the collections: Movies, Users, Reviews, and WatchHistory, each containing 100,000 records.\n",
    "\n",
    "**OUTPUT/VALIDATION**\n",
    "\n",
    "The output confirmed the successful import of data. The print statements showed the following for each collection:\n",
    "\n",
    "\"Imported 100000 records into 'Movies' collection.\"\n",
    "\"Imported 100000 records into 'Users' collection.\"\n",
    "\"Imported 100000 records into 'Reviews' collection.\"\n",
    "\"Imported 100000 records into 'WatchHistory' collection.\" Finally, the message \"All collections created and populated!\" was printed to indicate the completion of the task, confirming that all four collections were successfully populated with 100,000 records each."
   ]
  }
 ],
 "metadata": {
  "kernelspec": {
   "display_name": "Python 3 (ipykernel)",
   "language": "python",
   "name": "python3"
  },
  "language_info": {
   "codemirror_mode": {
    "name": "ipython",
    "version": 3
   },
   "file_extension": ".py",
   "mimetype": "text/x-python",
   "name": "python",
   "nbconvert_exporter": "python",
   "pygments_lexer": "ipython3",
   "version": "3.12.3"
  }
 },
 "nbformat": 4,
 "nbformat_minor": 5
}
